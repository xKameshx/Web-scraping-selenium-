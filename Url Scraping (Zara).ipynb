{
 "cells": [
  {
   "cell_type": "code",
   "execution_count": null,
   "id": "d0d4f22a",
   "metadata": {},
   "outputs": [],
   "source": [
    "from selenium import webdriver\n",
    "from selenium.webdriver.common.by import By\n",
    "from selenium.webdriver.support.ui import WebDriverWait\n",
    "from selenium.webdriver.support import expected_conditions as EC\n",
    "\n",
    "url = 'https://www.zara.com/in/en/man-outerwear-l715.html?v1=2300927&regionGroupId=83'\n",
    "\n",
    "# Set up the WebDriver (make sure you have the appropriate webdriver installed, e.g., chromedriver)\n",
    "driver = webdriver.Chrome()\n",
    "driver.get(url)\n",
    "\n",
    "# Wait for the product links to be present (adjust the timeout as needed)\n",
    "wait = WebDriverWait(driver, 10)\n",
    "product_links = wait.until(EC.presence_of_all_elements_located((By.CSS_SELECTOR, 'a.product-link')))\n",
    "\n",
    "# Extract and print the URLs\n",
    "for link in product_links:\n",
    "    product_url = link.get_attribute('href')\n",
    "    print(\"Product URL:\", product_url)\n",
    "`\n",
    "# Close the browser window\n",
    "driver.quit()\n"
   ]
  }
 ],
 "metadata": {
  "kernelspec": {
   "display_name": "Python 3 (ipykernel)",
   "language": "python",
   "name": "python3"
  },
  "language_info": {
   "codemirror_mode": {
    "name": "ipython",
    "version": 3
   },
   "file_extension": ".py",
   "mimetype": "text/x-python",
   "name": "python",
   "nbconvert_exporter": "python",
   "pygments_lexer": "ipython3",
   "version": "3.8.0"
  }
 },
 "nbformat": 4,
 "nbformat_minor": 5
}
